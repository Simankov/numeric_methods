{
 "cells": [
  {
   "cell_type": "code",
   "execution_count": 46,
   "metadata": {
    "collapsed": false
   },
   "outputs": [
    {
     "name": "stdout",
     "output_type": "stream",
     "text": [
      "iterations : 28\n",
      "Founded minimum and z-value\n",
      "(array([ 224.71669756,  273.94959473,  241.38009421,  259.9536135 ]), 3195200.5921083912)\n",
      "\n",
      "\n",
      "f in x_k\n",
      "[12763.597374953952, 12760.108178976187, 12758.940133356775, 12758.056526082546]\n",
      "\n",
      "\n",
      "Actual values:\n",
      "(array([ 224.69598571,  273.94935593,  241.38728929,  259.96736907]), 3195200.5377700962)\n"
     ]
    },
    {
     "name": "stderr",
     "output_type": "stream",
     "text": [
      "/root/anaconda2/lib/python2.7/site-packages/ipykernel/__main__.py:25: RuntimeWarning: divide by zero encountered in double_scalars\n"
     ]
    }
   ],
   "source": [
    "from operator import truediv,add,mul,sub\n",
    "from numpy import random\n",
    "import numpy as np\n",
    "from scipy.optimize import minimize, minimize_scalar\n",
    "n = 4\n",
    "F = 1000\n",
    "a = [random.uniform(8, 12) for _ in range(n)]\n",
    "c = [random.uniform(6, 8) for _ in range(n)]\n",
    "int_f = lambda x : map(add,  map(truediv, map(lambda l: l**4/4 ,x), map(lambda i: i**3 ,a)),map(mul,c,x))\n",
    "f = lambda x: map(add,  map(lambda y : (y**3), map(truediv,x,a)), c)\n",
    "df = lambda x: f(x)\n",
    "x_k =  np.full([n],F/n)\n",
    "LBD = 0\n",
    "epsilon = 0.001\n",
    "precision = 1.0\n",
    "i = 0\n",
    "while precision > epsilon:\n",
    "    i += 1\n",
    "    z_k = lambda x: z(x_k) + sum(map(mul, df(x_k), map(sub,x,x_k)))\n",
    "    cons = ({'type' : 'eq', 'fun' : lambda x : sum(x) - F},\n",
    "        {'type' : 'ineq', 'fun' : lambda x : x})\n",
    "    y_k = minimize(z_k, x_k, constraints=cons).x\n",
    "    p_k = y_k - x_k\n",
    "    LBD = max(LBD,z_k(y_k))\n",
    "    precision =  (z(x_k) - LBD) / LBD\n",
    "    bounds = ((0, 1))\n",
    "    l_k = minimize_scalar(lambda l : z(x_k + l*p_k), bounds=bounds, method='bounded').x\n",
    "    x_k = x_k + l_k*p_k\n",
    "print \"iterations :\", i\n",
    "print(\"Founded minimum and z-value:\")\n",
    "print(x_k, z(x_k))\n",
    "print(\"\\n\")\n",
    "print(\"f in x_k\")\n",
    "print(f(x_k))\n",
    "print(\"\\n\")\n",
    "print(\"Actual values:\")\n",
    "x_k_act = np.array([F/n for _ in range(n)])\n",
    "x_actual = minimize(z, x_k_act, constraints=cons).x\n",
    "print(x_actual, z(x_actual))\n",
    "\n",
    "\n"
   ]
  },
  {
   "cell_type": "code",
   "execution_count": null,
   "metadata": {
    "collapsed": true
   },
   "outputs": [],
   "source": []
  },
  {
   "cell_type": "code",
   "execution_count": null,
   "metadata": {
    "collapsed": true
   },
   "outputs": [],
   "source": []
  }
 ],
 "metadata": {
  "anaconda-cloud": {},
  "kernelspec": {
   "display_name": "Python [conda root]",
   "language": "python",
   "name": "conda-root-py"
  },
  "language_info": {
   "codemirror_mode": {
    "name": "ipython",
    "version": 2
   },
   "file_extension": ".py",
   "mimetype": "text/x-python",
   "name": "python",
   "nbconvert_exporter": "python",
   "pygments_lexer": "ipython2",
   "version": "2.7.12"
  }
 },
 "nbformat": 4,
 "nbformat_minor": 1
}
